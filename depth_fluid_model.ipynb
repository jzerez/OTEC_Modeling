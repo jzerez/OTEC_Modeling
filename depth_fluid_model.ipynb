{
 "cells": [
  {
   "cell_type": "markdown",
   "metadata": {},
   "source": [
    "## OTEC Modeling. Idealized Rankine Cycle\n",
    "\n",
    "**States**\n",
    "1. Exiting the Evaporator\n",
    "2. Exiting the Turbine/Generator\n",
    "3. Exiting the Condensor\n",
    "4. Exiting the Pump/Compressor\n",
    "\n",
    "\n",
    "**Assumptions**\n",
    "* No superheating/cooling. Fluid leaving the evaporator is a saturated vapor. Fluid leaving the condensor is a saturated liquid. \n",
    "* Gross power output of the turbine is 125kW\n",
    "* Temperature of cold ocean water is 5C\n",
    "* Temperature of hot ocean water is 30C\n",
    "* The working fluid can only be within 5C of either hot/cold fluid source\n",
    "* Pump and Turbine are isentropic\n",
    "* Condenser is a isobaric and isothermal process\n",
    "* Evaporator is a isobaric process\n",
    "\n",
    "\n",
    "**Next Steps**\n",
    "* Model pressure drop across evaporator and condenser (Vera says 0.0015 bar)\n",
    "* Model isentropic inefficiencies in turbine and pump\n",
    "\n",
    "**Questions**\n",
    "* Because the specific heat of water is different than most working fluids, we can't just compare the end temperatures right? 1 unit of temperature change in water represents a lot more energy than 1 unit of temperature change in the working fluid. How do we reconcile the energy based adiabatic analysis with the simplified temperature analysis? "
   ]
  },
  {
   "cell_type": "markdown",
   "metadata": {},
   "source": [
    "## Model Rankine Cycle"
   ]
  },
  {
   "cell_type": "code",
   "execution_count": 11,
   "metadata": {},
   "outputs": [],
   "source": [
    "import CoolProp.CoolProp as CP\n",
    "import numpy as np\n",
    "import matplotlib.pyplot as plt\n",
    "import matplotlib.colors as colors\n",
    "import pandas as pd\n",
    "from scipy.optimize import curve_fit\n",
    "\n",
    "\n",
    "\n",
    "class State:\n",
    "    # Simple object to hold different state variables.\n",
    "    def __init__(self, t, p, h, s, q=None):\n",
    "        self.t = t\n",
    "        self.p = p\n",
    "        self.h = h\n",
    "        self.s = s\n",
    "        self.q = q\n",
    "\n",
    "def calc_state(p1, p2, sub='NH3'):\n",
    "    # Assumes no superheating/cooling (q1 = 1, q3 = 0)\n",
    "\n",
    "    # State 1: Exiting Evaporator\n",
    "    q1 = 1\n",
    "    h1 = CP.PropsSI('H', 'Q', q1, 'P', p1, sub)\n",
    "    s1 = CP.PropsSI('S', 'Q', q1, 'P', p1, sub)\n",
    "    t1 = CP.PropsSI('T', 'Q', q1, 'P', p1, sub)\n",
    "    state1 = State(t1, p1, h1, s1, q1)\n",
    "\n",
    "    # State 2: Exiting the turbine\n",
    "    s2 = s1\n",
    "    t2 = CP.PropsSI('T', 'S', s2, 'P', p2, sub)\n",
    "    h2 = CP.PropsSI('H', 'S', s2, 'P', p2, sub)\n",
    "    q2 = CP.PropsSI('Q', 'S', s2, 'P', p2, sub)\n",
    "    state2 = State(t2, p2, h2, s2, q2)\n",
    "    \n",
    "    # State 3: Exiting Condensor\n",
    "    q3 = 0\n",
    "    t3 = t2\n",
    "    p3 = p2\n",
    "    h3 = CP.PropsSI('H', 'Q', q3, 'P', p3, sub)\n",
    "    s3 = CP.PropsSI('S', 'Q', q3, 'P', p3, sub)\n",
    "    state3 = State(t3, p3, h3, s3, q3)\n",
    "\n",
    "    # State 4: Exiting Pump\n",
    "    s4 = s3\n",
    "    p4 = p1\n",
    "    h4 = CP.PropsSI('H', 'S', s4, 'P', p4, sub)\n",
    "    t4 = CP.PropsSI('T', 'H', h4, 'S', s4, sub)\n",
    "    state4 = State(t4, p4, h4, s4)\n",
    "    \n",
    "    return (state1, state2, state3, state4)\n",
    "\n",
    "def calc_temp(depth):\n",
    "    # Calculates the ocean temperature for a given depth. Interpolates data from thermocline\n",
    "    depths_ref = [0, 500, 1000, 1500, 3500, 6000]\n",
    "    temps_ref = [24, 20, 7, 5, 4, 2]\n",
    "    \n",
    "    return np.interp(depth, depths_ref, temps_ref)\n",
    "\n",
    "def calc_constraints(t_cold, plot = False):\n",
    "    # Convert temperature in celsius to kelvin and add pinch temperature\n",
    "    t_cold += 5 + 273\n",
    "    \n",
    "    # Invalid because p2 > p1\n",
    "    invalid_p = (p2_mesh / p1_mesh) >= 1\n",
    "    # Invalid because working fluid is colder than resivoir temp + t_pinch\n",
    "    invalid_t_cold = state2.t.reshape(num_p1, num_p2) < t_cold\n",
    "    # invalid because working fluid is hotter than resivoir temp + t_pinch\n",
    "    invalid_t_hot = state1.t.reshape(num_p1, num_p2) > t_hot\n",
    "    invalid_t = np.logical_or(invalid_t_cold, invalid_t_hot)\n",
    "    invalid = np.logical_or(invalid_p, invalid_t)\n",
    "\n",
    "    if plot:\n",
    "        plt.contourf(p1_mesh, p2_mesh, invalid_t_cold)\n",
    "        plt.title('Invalid Pressure Combos (Yellow). T_condenser < 10C')\n",
    "        plt.figure()\n",
    "        plt.title('Invalid Pressure Combos (Yellow). T_evap > 25C')\n",
    "        plt.contourf(p1_mesh, p2_mesh, invalid_t_hot)\n",
    "        plt.figure()\n",
    "        plt.title('Invalid Pressure Combos (Yellow). p_condenser > p_evap')\n",
    "        plt.contourf(p1_mesh, p2_mesh, invalid_p)\n",
    "    \n",
    "    return invalid"
   ]
  },
  {
   "cell_type": "markdown",
   "metadata": {},
   "source": [
    "## Model seawater pump system"
   ]
  },
  {
   "cell_type": "code",
   "execution_count": 12,
   "metadata": {},
   "outputs": [],
   "source": [
    "# Model functions\n",
    "def calc_darcy_friction(Re, roughness, diameter):\n",
    "    # approximate darcy friction factor from Swamee and Jain\n",
    "    # https://en.wikipedia.org/wiki/Darcy_friction_factor_formulae#Table_of_Approximations\n",
    "    \n",
    "    # This approximation only works for Re > 5000\n",
    "    assert Re > 5000, \"Reynolds number too low for this approximation\"\n",
    "    rr = roughness / diameter\n",
    "    f = 0.25 / (np.log10(rr/3.7 + 5.74/Re**0.9))**2\n",
    "    return f\n",
    "\n",
    "def calc_pipe_loss(m_dot, roughness, diameter, length, rho=1030, mu=0.00161, eta_mech = 0.75, eta_entropy = 0.8):\n",
    "    # Calculates the power required to pump water through a specified pipe\n",
    "    vel = m_dot / (np.pi * (diameter / 2)**2) / rho\n",
    "    Re = rho * vel * diameter / mu\n",
    "    ff = calc_darcy_friction(Re, roughness, diameter)\n",
    "    dP = ff * rho * length * vel**2 / 2 / diameter\n",
    "    power = dP * m_dot / rho / eta_mech / eta_entropy\n",
    "    return power"
   ]
  },
  {
   "cell_type": "markdown",
   "metadata": {},
   "source": [
    "## Model net total thermal efficiency"
   ]
  },
  {
   "cell_type": "code",
   "execution_count": 13,
   "metadata": {},
   "outputs": [],
   "source": [
    "def calc_efficiency(depth):\n",
    "    # Calculates the maximum overall thermal efficiency for a given depth\n",
    "    # This function includes work require to pump the hot and cold seawater\n",
    "    \n",
    "    h1_grid = state1.h.reshape(num_p1, num_p2)\n",
    "    h2_grid = state2.h.reshape(num_p1, num_p2)\n",
    "    h3_grid = state3.h.reshape(num_p1, num_p2)\n",
    "    h4_grid = state4.h.reshape(num_p1, num_p2)\n",
    "\n",
    "    # Mass flow\n",
    "    m_dot_grid = W_turb / (h2_grid - h1_grid)\n",
    "\n",
    "    # Working fluid pump work\n",
    "    W_pump = m_dot_grid * (h4_grid - h3_grid)\n",
    "\n",
    "    # Net work\n",
    "    W_net = W_turb + W_pump\n",
    "\n",
    "    # Heat added\n",
    "    Q_in = -(h1_grid - h4_grid) * m_dot_grid\n",
    "    \n",
    "    # Work done by seawater pumps\n",
    "    m_dot_hot = 900\n",
    "    m_dot_cold = 450\n",
    "\n",
    "    roughness_cold = 0.0053\n",
    "    roughness_hot = 0.003\n",
    "\n",
    "    diameter_cold = 0.72\n",
    "    diameter_hot = 0.8\n",
    "\n",
    "    # Estimate length of warm seawater pipe\n",
    "    l_hot = 50\n",
    "    W_hot = calc_pipe_loss(m_dot_hot, roughness_hot, diameter_hot, l_hot, mu=0.00097)\n",
    "    \n",
    "    l_cold = depth\n",
    "    W_cold = calc_pipe_loss(m_dot_cold, roughness_cold, diameter_cold, depth)\n",
    "    \n",
    "    net_thermal = (W_net + W_hot + W_cold) / Q_in\n",
    "    \n",
    "    return net_thermal"
   ]
  },
  {
   "cell_type": "markdown",
   "metadata": {},
   "source": [
    "## Model setup"
   ]
  },
  {
   "cell_type": "code",
   "execution_count": 14,
   "metadata": {},
   "outputs": [],
   "source": [
    "## Rankine model setup\n",
    "\n",
    "# Hot and cold temp limits (with t_pinch = 5)\n",
    "t_hot = 30 + 273 - 5\n",
    "\n",
    "# Constant work from turbine\n",
    "W_turb = -125e3\n",
    "\n",
    "\n",
    "## Seawater model setup\n",
    "m_dot_hot = 900\n",
    "m_dot_cold = 450\n",
    "\n",
    "roughness_cold = 0.0053\n",
    "roughness_hot = 0.003\n",
    "\n",
    "diameter_cold = 0.72\n",
    "diameter_hot = 0.8\n",
    "\n",
    "l_cold = 1000\n",
    "l_hot = 50\n",
    "\n",
    "# Depths at which to evaluate model\n",
    "depths = np.linspace(700, 3000, 200)"
   ]
  },
  {
   "cell_type": "markdown",
   "metadata": {},
   "source": [
    "## Evaluate model"
   ]
  },
  {
   "cell_type": "code",
   "execution_count": 23,
   "metadata": {
    "scrolled": true
   },
   "outputs": [
    {
     "name": "stderr",
     "output_type": "stream",
     "text": [
      "<ipython-input-13-7c816d1b475f>:11: RuntimeWarning: divide by zero encountered in true_divide\n",
      "  m_dot_grid = W_turb / (h2_grid - h1_grid)\n",
      "<ipython-input-13-7c816d1b475f>:14: RuntimeWarning: invalid value encountered in multiply\n",
      "  W_pump = m_dot_grid * (h4_grid - h3_grid)\n",
      "<ipython-input-13-7c816d1b475f>:39: RuntimeWarning: invalid value encountered in true_divide\n",
      "  net_thermal = (W_net + W_hot + W_cold) / Q_in\n"
     ]
    },
    {
     "data": {
      "text/plain": [
       "<AxesSubplot:>"
      ]
     },
     "execution_count": 23,
     "metadata": {},
     "output_type": "execute_result"
    },
    {
     "data": {
      "image/png": "[encoded data removed]",
      "text/plain": [
       "<Figure size 432x288 with 1 Axes>"
      ]
     },
     "metadata": {
      "needs_background": "light"
     },
     "output_type": "display_data"
    }
   ],
   "source": [
    "# Number of pressure values to sweep\n",
    "n = 100\n",
    "num_p1 = n\n",
    "num_p2 = n\n",
    "\n",
    "# Pressures to sweep\n",
    "p1s = np.linspace(4e5, 1.1e6, num_p1)\n",
    "p2s = np.linspace(4e5, 1.1e6, num_p2)\n",
    "\n",
    "# Mesh of pressures\n",
    "p1_mesh, p2_mesh = np.meshgrid(p1s, p2s)\n",
    "\n",
    "# Select fluids\n",
    "fluids = [\"NH3\", \"R1234yf\", \"n-Propane\", \"R134a\"]\n",
    "\n",
    "df = pd.DataFrame(index = depths)\n",
    "\n",
    "for fluid in fluids:\n",
    "    state1, state2, state3, state4 = calc_state(p1_mesh.ravel(), p2_mesh.ravel(), sub = fluid)\n",
    "    \n",
    "    max_eff = []\n",
    "    for depth in depths:\n",
    "        temp = calc_temp(depth)\n",
    "        invalids = calc_constraints(temp)\n",
    "        efficiency = calc_efficiency(depth)\n",
    "        efficiency[invalids] = None\n",
    "        \n",
    "        max_eff.append(np.nanmax(efficiency))\n",
    "        \n",
    "    df[fluid] = max_eff\n",
    "\n",
    "df.plot()"
   ]
  },
  {
   "cell_type": "markdown",
   "metadata": {},
   "source": [
    "## Fit a polynomial curve to approximate output"
   ]
  },
  {
   "cell_type": "code",
   "execution_count": 24,
   "metadata": {},
   "outputs": [],
   "source": [
    "# fit a curve to smooth\n",
    "def func_four(x, c, d, e, f, g):\n",
    "    # Fourth order polynomial\n",
    "    return c*x**4 + d*x**3 + e*x**2 + f*x + g\n",
    "    \n",
    "def func_six(x, a, b, c, d, e, f, g):\n",
    "    # Sixth order polynomial\n",
    "    return a*x**6 + b*x**5 + c*x**4 + d*x**3 + e*x**2 + f*x + g\n",
    "\n",
    "def poly_fit(df, od = 6):\n",
    "    # Make new dataframe to accomodate fit\n",
    "    df_fit = pd.DataFrame(index = df.index)\n",
    "    \n",
    "    # Grab depths from original data\n",
    "    xdata = df.index\n",
    "    \n",
    "    # Grab data for each column in original data\n",
    "    for col in df.columns:\n",
    "        ydata = df[col].tolist()\n",
    "        \n",
    "    # Run sixth order polynomial fit with scipy.optimize.curve_fit()\n",
    "        if od == 6:\n",
    "            popt, pcov = curve_fit(func_six, xdata, ydata)\n",
    "            df_fit[col] = func_six(xdata, *popt)\n",
    "    # Or fourth order fit\n",
    "        elif od == 4:\n",
    "            popt, pcov = curve_fit(func_four, xdata, ydata)\n",
    "            df_fit[col] = func_four(xdata, *popt)\n",
    "        \n",
    "    return df_fit\n",
    "\n"
   ]
  },
  {
   "cell_type": "markdown",
   "metadata": {},
   "source": [
    "## Plot"
   ]
  },
  {
   "cell_type": "code",
   "execution_count": 21,
   "metadata": {
    "scrolled": false
   },
   "outputs": [
    {
     "data": {
      "image/png": "[encoded data removed]",
      "text/plain": [
       "<Figure size 432x288 with 1 Axes>"
      ]
     },
     "metadata": {
      "needs_background": "light"
     },
     "output_type": "display_data"
    }
   ],
   "source": [
    "df_fit = poly_fit(df, od=6)\n",
    "df_percent = df_fit*100\n",
    "df_percent.plot()\n",
    "\n",
    "for col in df_fit.columns:\n",
    "    plt.plot(df_fit[col].idxmax(), df_fit[col].max()*100, 'k*')\n",
    "plt.plot(0,0,'k*', label = 'Max Efficiency Point')\n",
    "plt.legend()\n",
    "plt.title(\"Maximum Thermal Efficiency Across Depth and Working Fluid\")\n",
    "plt.xlabel(\"Depth (m)\")\n",
    "plt.ylabel(\"Net Thermal Efficiency (%)\")\n",
    "plt.ylim(2, 3.8)\n",
    "plt.xlim(700, 2500)\n",
    "plt.show()"
   ]
  }
 ],
 "metadata": {
  "kernelspec": {
   "display_name": "Python 3",
   "language": "python",
   "name": "python3"
  },
  "language_info": {
   "codemirror_mode": {
    "name": "ipython",
    "version": 3
   },
   "file_extension": ".py",
   "mimetype": "text/x-python",
   "name": "python",
   "nbconvert_exporter": "python",
   "pygments_lexer": "ipython3",
   "version": "3.8.5"
  }
 },
 "nbformat": 4,
 "nbformat_minor": 4
}
